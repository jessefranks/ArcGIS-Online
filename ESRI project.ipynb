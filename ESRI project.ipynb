{
 "cells": [
  {
   "cell_type": "code",
   "execution_count": 1,
   "metadata": {},
   "outputs": [],
   "source": [
    "import arcgis\n",
    "from arcgis.gis import GIS\n",
    "import csv\n",
    "import shapefile"
   ]
  },
  {
   "cell_type": "code",
   "execution_count": 2,
   "metadata": {},
   "outputs": [],
   "source": [
    "def process_file(fname):\n",
    "    ''''''\n",
    "    with open(fname,'r') as file:\n",
    "        data = [ line.rstrip().split(',') for line in file]   \n",
    "    return data"
   ]
  },
  {
   "cell_type": "code",
   "execution_count": 3,
   "metadata": {},
   "outputs": [],
   "source": [
    "def remove_null_lat_long_rows(data):\n",
    "    '''Returns a new list of list that excludeds any row with an empty string in lat/long col.'''\n",
    "    new_data = []\n",
    "    for row in range(len(data)):\n",
    "        if data[row][-1] != '':\n",
    "            new_data.append(data[row])\n",
    "    return new_data"
   ]
  },
  {
   "cell_type": "code",
   "execution_count": 4,
   "metadata": {},
   "outputs": [],
   "source": [
    "def output_csv(data, file_name):\n",
    "    '''Outputs a new .csv file to the working directory.'''   \n",
    "    with open(file_name, 'w', newline='') as file:\n",
    "        writer = csv.writer(file)\n",
    "        writer.writerows(data)"
   ]
  },
  {
   "cell_type": "code",
   "execution_count": 5,
   "metadata": {},
   "outputs": [],
   "source": [
    "def create_shp(fname,header):\n",
    "    '''Returns a .shp file created from fname.csv'''\n",
    "    data = process_file(fname) # Covert .csv to list of list.\n",
    "    RLCV_shp = shapefile.Writer(shapefile.POINT)\n",
    "    RLCV_shp.autoBalance = 1\n",
    " \n",
    "    # Create field names for shp attribute table. \n",
    "    RLCV_shp.field('obj_id','N','6')\n",
    "    RLCV_shp.field(header[0],'C','50')\n",
    "    RLCV_shp.field(header[1],'N','6')\n",
    "    RLCV_shp.field(header[2],'C','50')\n",
    "    RLCV_shp.field(header[3],'C','15')\n",
    "    RLCV_shp.field(header[4],'N','3')\n",
    "    RLCV_shp.field(header[5],'F',20,10)\n",
    "    RLCV_shp.field(header[6],'F',20,10)\n",
    "    RLCV_shp.field(header[7],'F',20,10)\n",
    "    RLCV_shp.field(header[8],'F',20,10)\n",
    "    RLCV_shp.field(header[9],'C','50')\n",
    "\n",
    "    for lst in range(1,len(data)):\n",
    "        row = data[lst]\n",
    "        RLCV_shp.point(float(row[5]),float(row[6]))\n",
    "        RLCV_shp.record(lst,row[0],row[1],row[2],row[3],row[4],row[5],row[6],row[7],row[8],row[9])\n",
    "    \n",
    "    RLCV_shp.save('RLCV_shp')"
   ]
  },
  {
   "cell_type": "markdown",
   "metadata": {},
   "source": [
    "#### Main()\n",
    "ddddddddddddd"
   ]
  },
  {
   "cell_type": "code",
   "execution_count": 6,
   "metadata": {},
   "outputs": [
    {
     "name": "stdout",
     "output_type": "stream",
     "text": [
      "Total number of rows in the original file: 310,580\n",
      "Total number of rows after removing all rows with no lat/long data: 291,981\n",
      "Number of deleted rows: 18,599\n"
     ]
    }
   ],
   "source": [
    "fname = 'ESRI project shps/Red_Light_Camera_Violations.csv'\n",
    "data = process_file(fname)\n",
    "print('Total number of rows in the original file: {0:,}'.format(len(data)) )\n",
    "clean_data = remove_null_lat_long_rows(data)\n",
    "print('Total number of rows after removing all rows with no lat/long data: {0:,}'.format(len(clean_data)) )\n",
    "print('Number of deleted rows: {0:,}'.format(len(data) - len(clean_data)) )"
   ]
  },
  {
   "cell_type": "code",
   "execution_count": null,
   "metadata": {},
   "outputs": [],
   "source": [
    "item = gis.content.add({}, data_dir + current_sd_file)   # .sd file is uploaded and a .sd file item is created\n",
    "published_item = item.publish() "
   ]
  },
  {
   "cell_type": "markdown",
   "metadata": {},
   "source": [
    "#### Display the field names of the soon to be created shapefile."
   ]
  },
  {
   "cell_type": "code",
   "execution_count": 7,
   "metadata": {},
   "outputs": [
    {
     "data": {
      "text/plain": [
       "['INTERSECTION',\n",
       " 'CAMERA ID',\n",
       " 'ADDRESS',\n",
       " 'VIOLATION DATE',\n",
       " 'VIOLATIONS',\n",
       " 'X COORDINATE',\n",
       " 'Y COORDINATE',\n",
       " 'LATITUDE',\n",
       " 'LONGITUDE',\n",
       " 'LOCATION']"
      ]
     },
     "execution_count": 7,
     "metadata": {},
     "output_type": "execute_result"
    }
   ],
   "source": [
    "headers = clean_data[0]\n",
    "headers # Display column names."
   ]
  },
  {
   "cell_type": "markdown",
   "metadata": {},
   "source": [
    "#### Create a new shapfile based on the cleaned .csv file."
   ]
  },
  {
   "cell_type": "code",
   "execution_count": 8,
   "metadata": {},
   "outputs": [],
   "source": [
    "output_csv(clean_data, 'clean_RLCV.csv')\n",
    "create_shp('clean_RLCV.csv',headers)"
   ]
  },
  {
   "cell_type": "markdown",
   "metadata": {},
   "source": [
    "#### Upload newly created shapfile to ArcGIS Online:"
   ]
  },
  {
   "cell_type": "code",
   "execution_count": 9,
   "metadata": {},
   "outputs": [],
   "source": [
    "gis = GIS(\"https://www.arcgis.com\",\"jesse.j.franks@gmail.com\",\"ZEpar999!!\") # Connect to ArcGIS Online.\n",
    "\n",
    "RLCV_properties = {'title':'Red_Light_Camera_Violations_Chicago', 'tags':'Chicago, Traffic','type':'Shapefile'}\n",
    " \n",
    "RLCV_shp = gis.content.add(RLCV_properties, data='./ESRI project shps/RLCV.zip')"
   ]
  },
  {
   "cell_type": "code",
   "execution_count": 10,
   "metadata": {},
   "outputs": [
    {
     "ename": "Exception",
     "evalue": "Job failed.",
     "output_type": "error",
     "traceback": [
      "\u001b[1;31m---------------------------------------------------------------------------\u001b[0m",
      "\u001b[1;31mException\u001b[0m                                 Traceback (most recent call last)",
      "\u001b[1;32m<ipython-input-10-5086c1f2d8f0>\u001b[0m in \u001b[0;36m<module>\u001b[1;34m()\u001b[0m\n\u001b[1;32m----> 1\u001b[1;33m \u001b[0mRLCV_shp_feature_layer\u001b[0m \u001b[1;33m=\u001b[0m \u001b[0mRLCV_shp\u001b[0m\u001b[1;33m.\u001b[0m\u001b[0mpublish\u001b[0m\u001b[1;33m(\u001b[0m\u001b[1;33m)\u001b[0m\u001b[1;33m\u001b[0m\u001b[0m\n\u001b[0m",
      "\u001b[1;32mC:\\Program Files (x86)\\Microsoft Visual Studio\\Shared\\Anaconda3_64\\lib\\site-packages\\arcgis\\gis\\__init__.py\u001b[0m in \u001b[0;36mpublish\u001b[1;34m(self, publish_parameters, address_fields, output_type, overwrite, file_type, build_initial_cache)\u001b[0m\n\u001b[0;32m   6850\u001b[0m             \u001b[1;32mreturn\u001b[0m \u001b[0mItem\u001b[0m\u001b[1;33m(\u001b[0m\u001b[0mself\u001b[0m\u001b[1;33m.\u001b[0m\u001b[0m_gis\u001b[0m\u001b[1;33m,\u001b[0m \u001b[0mret\u001b[0m\u001b[1;33m[\u001b[0m\u001b[1;36m0\u001b[0m\u001b[1;33m]\u001b[0m\u001b[1;33m[\u001b[0m\u001b[1;34m'serviceItemId'\u001b[0m\u001b[1;33m]\u001b[0m\u001b[1;33m)\u001b[0m\u001b[1;33m\u001b[0m\u001b[0m\n\u001b[0;32m   6851\u001b[0m         \u001b[1;32melse\u001b[0m\u001b[1;33m:\u001b[0m\u001b[1;33m\u001b[0m\u001b[0m\n\u001b[1;32m-> 6852\u001b[1;33m             \u001b[0mserviceitem_id\u001b[0m \u001b[1;33m=\u001b[0m \u001b[0mself\u001b[0m\u001b[1;33m.\u001b[0m\u001b[0m_check_publish_status\u001b[0m\u001b[1;33m(\u001b[0m\u001b[0mret\u001b[0m\u001b[1;33m,\u001b[0m \u001b[0mfolder\u001b[0m\u001b[1;33m)\u001b[0m\u001b[1;33m\u001b[0m\u001b[0m\n\u001b[0m\u001b[0;32m   6853\u001b[0m         \u001b[1;32mreturn\u001b[0m \u001b[0mItem\u001b[0m\u001b[1;33m(\u001b[0m\u001b[0mself\u001b[0m\u001b[1;33m.\u001b[0m\u001b[0m_gis\u001b[0m\u001b[1;33m,\u001b[0m \u001b[0mserviceitem_id\u001b[0m\u001b[1;33m)\u001b[0m\u001b[1;33m\u001b[0m\u001b[0m\n\u001b[0;32m   6854\u001b[0m \u001b[1;33m\u001b[0m\u001b[0m\n",
      "\u001b[1;32mC:\\Program Files (x86)\\Microsoft Visual Studio\\Shared\\Anaconda3_64\\lib\\site-packages\\arcgis\\gis\\__init__.py\u001b[0m in \u001b[0;36m_check_publish_status\u001b[1;34m(self, ret, folder)\u001b[0m\n\u001b[0;32m   7087\u001b[0m                     \u001b[1;31m#print(str(job_response))\u001b[0m\u001b[1;33m\u001b[0m\u001b[1;33m\u001b[0m\u001b[0m\n\u001b[0;32m   7088\u001b[0m                     \u001b[1;32mif\u001b[0m \u001b[0mjob_response\u001b[0m\u001b[1;33m.\u001b[0m\u001b[0mget\u001b[0m\u001b[1;33m(\u001b[0m\u001b[1;34m\"status\"\u001b[0m\u001b[1;33m)\u001b[0m \u001b[1;32min\u001b[0m \u001b[1;33m(\u001b[0m\u001b[1;34m\"esriJobFailed\"\u001b[0m\u001b[1;33m,\u001b[0m\u001b[1;34m\"failed\"\u001b[0m\u001b[1;33m)\u001b[0m\u001b[1;33m:\u001b[0m\u001b[1;33m\u001b[0m\u001b[0m\n\u001b[1;32m-> 7089\u001b[1;33m                         \u001b[1;32mraise\u001b[0m \u001b[0mException\u001b[0m\u001b[1;33m(\u001b[0m\u001b[1;34m\"Job failed.\"\u001b[0m\u001b[1;33m)\u001b[0m\u001b[1;33m\u001b[0m\u001b[0m\n\u001b[0m\u001b[0;32m   7090\u001b[0m                     \u001b[1;32melif\u001b[0m \u001b[0mjob_response\u001b[0m\u001b[1;33m.\u001b[0m\u001b[0mget\u001b[0m\u001b[1;33m(\u001b[0m\u001b[1;34m\"status\"\u001b[0m\u001b[1;33m)\u001b[0m \u001b[1;33m==\u001b[0m \u001b[1;34m\"esriJobCancelled\"\u001b[0m\u001b[1;33m:\u001b[0m\u001b[1;33m\u001b[0m\u001b[0m\n\u001b[0;32m   7091\u001b[0m                         \u001b[1;32mraise\u001b[0m \u001b[0mException\u001b[0m\u001b[1;33m(\u001b[0m\u001b[1;34m\"Job cancelled.\"\u001b[0m\u001b[1;33m)\u001b[0m\u001b[1;33m\u001b[0m\u001b[0m\n",
      "\u001b[1;31mException\u001b[0m: Job failed."
     ]
    }
   ],
   "source": [
    "RLCV_shp_feature_layer = RLCV_shp.publish()"
   ]
  },
  {
   "cell_type": "markdown",
   "metadata": {},
   "source": [
    "#### Search for data."
   ]
  },
  {
   "cell_type": "code",
   "execution_count": null,
   "metadata": {},
   "outputs": [],
   "source": [
    "search = gis.content.search(\"Chicago\", item_type=\"Feature Layer\")\n",
    "search"
   ]
  },
  {
   "cell_type": "markdown",
   "metadata": {},
   "source": [
    "#### Get data."
   ]
  },
  {
   "cell_type": "code",
   "execution_count": null,
   "metadata": {},
   "outputs": [],
   "source": [
    "RLCV_shp = search[0]\n",
    "RLCV_shp"
   ]
  },
  {
   "cell_type": "code",
   "execution_count": null,
   "metadata": {},
   "outputs": [],
   "source": [
    "search_result = gis.content.search(\"title:Chicago crime\",\"Feature Layer\", outside_org=True)\n",
    "search_result"
   ]
  },
  {
   "cell_type": "code",
   "execution_count": null,
   "metadata": {},
   "outputs": [],
   "source": [
    "USA_Freeway_System = search_result[2]"
   ]
  },
  {
   "cell_type": "code",
   "execution_count": null,
   "metadata": {},
   "outputs": [],
   "source": [
    "Chicago_crime = gis.map('Chicago, IL')\n",
    "Chicago_crime.basemap = 'dark-gray-vector'\n",
    "Chicago_crime.add_layer(USA_Freeway_System)"
   ]
  },
  {
   "cell_type": "code",
   "execution_count": null,
   "metadata": {},
   "outputs": [],
   "source": [
    "update_parameters = {\"extent\": {\"xmin\": -87.83,\"ymin\": 41.69,\"xmax\": -87.43,\"ymax\": 42.08,\n",
    "                                \"spatialReference\": {\"wkid\": 4326}}}\n",
    "Chicago_crime.update(update_parameters)"
   ]
  },
  {
   "cell_type": "code",
   "execution_count": null,
   "metadata": {},
   "outputs": [],
   "source": [
    "Chicago_crime"
   ]
  },
  {
   "cell_type": "code",
   "execution_count": null,
   "metadata": {},
   "outputs": [],
   "source": []
  }
 ],
 "metadata": {
  "kernelspec": {
   "display_name": "Python 3",
   "language": "python",
   "name": "python3"
  },
  "language_info": {
   "codemirror_mode": {
    "name": "ipython",
    "version": 3
   },
   "file_extension": ".py",
   "mimetype": "text/x-python",
   "name": "python",
   "nbconvert_exporter": "python",
   "pygments_lexer": "ipython3",
   "version": "3.6.6"
  }
 },
 "nbformat": 4,
 "nbformat_minor": 2
}
