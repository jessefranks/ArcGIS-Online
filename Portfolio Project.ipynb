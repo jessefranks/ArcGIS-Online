{
 "cells": [
  {
   "cell_type": "markdown",
   "metadata": {},
   "source": [
    "### This was project was my atempt to lean the ArcGIS Python API and create a portfolio of GIS work. Unfortunately, I ran out of credits when trying to do anylsis on ~300,000 rows. This project is abandon. \n",
    "\n",
    "The goal was to process the .csv file of chicago red light camera violations to create a heat map of the intersectons where violations occured most often and the geocode by intersection the red light violations that had null values for the Lat Long fields. "
   ]
  },
  {
   "cell_type": "code",
   "execution_count": 1,
   "metadata": {},
   "outputs": [],
   "source": [
    "from arcgis.gis import GIS\n",
    "import getpass\n",
    "import os"
   ]
  },
  {
   "cell_type": "code",
   "execution_count": 2,
   "metadata": {},
   "outputs": [],
   "source": [
    "def process_file(fname):\n",
    "    '''Returns a list of lists. Each list is a row in the .csv.'''\n",
    "    with open(fname,'r') as file:\n",
    "        data = [ line.rstrip().split(',') for line in file]   \n",
    "    return data"
   ]
  },
  {
   "cell_type": "code",
   "execution_count": 3,
   "metadata": {},
   "outputs": [
    {
     "name": "stdout",
     "output_type": "stream",
     "text": [
      "Enter password: ········\n",
      "Logged in as: jesse.j.franks@gmail.com\n"
     ]
    }
   ],
   "source": [
    "password = getpass.getpass('Enter password: ')\n",
    "gis = GIS(\"https://www.arcgis.com\",\"jesse.j.franks@gmail.com\",password) # Connect to ArcGIS Online.\n",
    "print('Logged in as: ' + gis.properties.user.username)"
   ]
  },
  {
   "cell_type": "code",
   "execution_count": 4,
   "metadata": {},
   "outputs": [
    {
     "name": "stdout",
     "output_type": "stream",
     "text": [
      "['clean_RLCV.csv', 'Red_Light_Camera_Violations.csv']\n",
      "Number of .csv files found: 2\n"
     ]
    }
   ],
   "source": [
    "# Path relative to this notebook.\n",
    "data_dir = \"Data/\"\n",
    "\n",
    "# Get list of all files.\n",
    "file_list = os.listdir(data_dir)\n",
    "\n",
    "#Filter and get only .csv files\n",
    "file_list = [file for file in file_list if file.endswith(\".csv\")]\n",
    "print(file_list)\n",
    "print(\"Number of .csv files found: \" + str(len(file_list)))"
   ]
  },
  {
   "cell_type": "code",
   "execution_count": 5,
   "metadata": {},
   "outputs": [
    {
     "name": "stdout",
     "output_type": "stream",
     "text": [
      "Total number of rows in the file: 310,580\n"
     ]
    }
   ],
   "source": [
    "fname = 'Data/Red_Light_Camera_Violations.csv'\n",
    "data = process_file(fname)\n",
    "print('Total number of rows in the file: {0:,}'.format(len(data)) )"
   ]
  },
  {
   "cell_type": "code",
   "execution_count": 16,
   "metadata": {},
   "outputs": [
    {
     "name": "stdout",
     "output_type": "stream",
     "text": [
      "Number of fields: 10\n",
      "\n",
      "Field names: ['INTERSECTION', 'CAMERA ID', 'ADDRESS', 'VIOLATION DATE', 'VIOLATIONS', 'X COORDINATE', 'Y COORDINATE', 'LATITUDE', 'LONGITUDE', 'LOCATION']\n",
      "\n"
     ]
    },
    {
     "data": {
      "text/plain": [
       "[str, str, str, str, str, str, str, str, str, str]"
      ]
     },
     "execution_count": 16,
     "metadata": {},
     "output_type": "execute_result"
    }
   ],
   "source": [
    "print('Number of fields: ' + str(len(data[0]) ) + '\\n') # Display number of fields in working .csv.\n",
    "\n",
    "print('Field names: ' + str(data[0]) + '\\n') # Display field names in working .csv.\n",
    "      \n",
    "data_row = data[1]\n",
    "[ type(data_row[ele]) for ele in range(len(data_row))]# Display field data types in working .csv."
   ]
  },
  {
   "cell_type": "code",
   "execution_count": 7,
   "metadata": {},
   "outputs": [],
   "source": [
    "# This block should only run once. It has already ran.\n",
    "\n",
    "# item = gis.content.add({}, data_dir + 'Red_Light_Camera_Violations.csv')# .csv file is uploaded and a .csv file item is created.\n",
    "# published_item = item.publish() # Feature Service item created. "
   ]
  },
  {
   "cell_type": "code",
   "execution_count": 8,
   "metadata": {},
   "outputs": [
    {
     "data": {
      "text/plain": [
       "[<Item title:\"Red_Light_Camera_Violations\" type:Feature Layer Collection owner:jesse.j.franks@gmail.com>]"
      ]
     },
     "execution_count": 8,
     "metadata": {},
     "output_type": "execute_result"
    }
   ],
   "source": [
    "search = gis.content.search(\"Chicago\", item_type=\"Feature Service\")\n",
    "search"
   ]
  },
  {
   "cell_type": "code",
   "execution_count": 9,
   "metadata": {},
   "outputs": [
    {
     "data": {
      "text/html": [
       "<div class=\"item_container\" style=\"height: auto; overflow: hidden; border: 1px solid #cfcfcf; border-radius: 2px; background: #f6fafa; line-height: 1.21429em; padding: 10px;\">\n",
       "                    <div class=\"item_left\" style=\"width: 210px; float: left;\">\n",
       "                       <a href='https://jessejfranks.maps.arcgis.com/home/item.html?id=71b1a4f7460241c4b5a43e83512cc339' target='_blank'>\n",
       "                        <img src='data:image/png;base64,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' width='200' height='133' class=\"itemThumbnail\">\n",
       "                       </a>\n",
       "                    </div>\n",
       "\n",
       "                    <div class=\"item_right\"     style=\"float: none; width: auto; overflow: hidden;\">\n",
       "                        <a href='https://jessejfranks.maps.arcgis.com/home/item.html?id=71b1a4f7460241c4b5a43e83512cc339' target='_blank'><b>Red_Light_Camera_Violations</b>\n",
       "                        </a>\n",
       "                        <br/>Chicago red light camera violations from 2014 - 2017.<img src='https://jessejfranks.maps.arcgis.com/home/js/jsapi/esri/css/images/item_type_icons/featureshosted16.png' style=\"vertical-align:middle;\">Feature Layer Collection by jesse.j.franks@gmail.com\n",
       "                        <br/>Last Modified: November 29, 2018\n",
       "                        <br/>0 comments, 3 views\n",
       "                    </div>\n",
       "                </div>\n",
       "                "
      ],
      "text/plain": [
       "<Item title:\"Red_Light_Camera_Violations\" type:Feature Layer Collection owner:jesse.j.franks@gmail.com>"
      ]
     },
     "execution_count": 9,
     "metadata": {},
     "output_type": "execute_result"
    }
   ],
   "source": [
    "Red_Light_lyr = search[0]\n",
    "Red_Light_lyr"
   ]
  },
  {
   "cell_type": "code",
   "execution_count": null,
   "metadata": {},
   "outputs": [],
   "source": [
    "df = Red_Light_lyr.query(where=\"LATITUDE == ' ' \").df"
   ]
  },
  {
   "cell_type": "code",
   "execution_count": 10,
   "metadata": {},
   "outputs": [
    {
     "data": {
      "text/plain": [
       "'https://services9.arcgis.com/v7uCOYlOOr8zPbXL/arcgis/rest/services/Red_Light_Camera_Violations/FeatureServer'"
      ]
     },
     "execution_count": 10,
     "metadata": {},
     "output_type": "execute_result"
    }
   ],
   "source": [
    "Red_Light_lyr.url # lat long fiedls should be floats! check file."
   ]
  },
  {
   "cell_type": "code",
   "execution_count": 11,
   "metadata": {},
   "outputs": [],
   "source": [
    "Chicago_crime = gis.map('Chicago, IL', 8)\n",
    "Chicago_crime.basemap = 'dark-gray-vector'"
   ]
  },
  {
   "cell_type": "code",
   "execution_count": 15,
   "metadata": {},
   "outputs": [
    {
     "data": {
      "application/vnd.jupyter.widget-view+json": {
       "model_id": "ceb7a28e04d0418eba8307acfe8d7f11",
       "version_major": 2,
       "version_minor": 0
      },
      "text/plain": [
       "MapView(basemap='dark-gray-vector', jupyter_target='notebook', layout=Layout(height='400px', width='100%'), zo…"
      ]
     },
     "metadata": {},
     "output_type": "display_data"
    }
   ],
   "source": [
    "Chicago_crime"
   ]
  },
  {
   "cell_type": "code",
   "execution_count": null,
   "metadata": {},
   "outputs": [],
   "source": []
  }
 ],
 "metadata": {
  "kernelspec": {
   "display_name": "Python 3",
   "language": "python",
   "name": "python3"
  },
  "language_info": {
   "codemirror_mode": {
    "name": "ipython",
    "version": 3
   },
   "file_extension": ".py",
   "mimetype": "text/x-python",
   "name": "python",
   "nbconvert_exporter": "python",
   "pygments_lexer": "ipython3",
   "version": "3.6.6"
  }
 },
 "nbformat": 4,
 "nbformat_minor": 2
}
